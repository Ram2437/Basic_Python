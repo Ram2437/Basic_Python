{
 "cells": [
  {
   "cell_type": "code",
   "execution_count": 1,
   "metadata": {},
   "outputs": [
    {
     "name": "stdout",
     "output_type": "stream",
     "text": [
      "[0, 1, 4, 9]\n",
      "[0, 1, 4, 9]\n"
     ]
    }
   ],
   "source": [
    "# List comprehensions, print the squares of the existing list\n",
    "\n",
    "lc = []\n",
    "for i in range(4):\n",
    "    lc.append(i ** 2)\n",
    "print(lc)\n",
    "\n",
    "# we can comprehend the same as\n",
    "lc = [i ** 2 for i in range (4)]\n",
    "print(lc)\n"
   ]
  },
  {
   "cell_type": "code",
   "execution_count": 3,
   "metadata": {},
   "outputs": [
    {
     "name": "stdout",
     "output_type": "stream",
     "text": [
      "[[0, 1, 2], [0, 1, 2], [0, 1, 2], [0, 1, 2]]\n",
      "[[0, 1, 2], [0, 1, 2], [0, 1, 2], [0, 1, 2]]\n"
     ]
    }
   ],
   "source": [
    "'''matrix =[[0,1,2],\n",
    "        [0,1,2],\n",
    "        [0,1,2],\n",
    "        [0,1,2]]\n",
    "'''\n",
    "mat = []\n",
    "for i in range(4):\n",
    "    rowlist = []\n",
    "    for j in range(3):\n",
    "        rowlist.append(j)\n",
    "    mat.append(rowlist)\n",
    "print(mat)\n",
    "\n",
    "# we can comprehend the same as\n",
    "mat = []\n",
    "[mat.append ([j for j in range (3)]) for i in range(4)]\n",
    "print(mat)\n"
   ]
  },
  {
   "cell_type": "code",
   "execution_count": 19,
   "metadata": {},
   "outputs": [
    {
     "name": "stdout",
     "output_type": "stream",
     "text": [
      "[1, 4, 9, 16, 25, 36, 49, 64]\n",
      "[1, 4, 9, 16, 25, 36, 49, 64]\n",
      "[(1, 1), (2, 2), (3, 3), (4, 4), (5, 5), (6, 6), (7, 7), (8, 8)]\n"
     ]
    }
   ],
   "source": [
    "mylist=[1,2,3,4,5,6,7,8]\n",
    "oplist=[]\n",
    "\n",
    "for i in mylist:\n",
    "    oplist.append(i ** 2)\n",
    "print(oplist)\n",
    "\n",
    "olist = [i ** 2 for i in mylist]          # square the values in mylist \n",
    "print(olist)\n",
    "\n",
    "newlist = [(i , i) for i in mylist]       # print the values in mylist in format (x,x)\n",
    "print(newlist)\n",
    "\n",
    "\n"
   ]
  },
  {
   "cell_type": "code",
   "execution_count": 31,
   "metadata": {},
   "outputs": [
    {
     "name": "stdout",
     "output_type": "stream",
     "text": [
      "[4]\n",
      "[6]\n",
      "[8]\n",
      "[4, 6, 8]\n"
     ]
    }
   ],
   "source": [
    "# store even numbers greater than 2\n",
    "\n",
    "mylist=[1,2,3,4,5,6,7,8]\n",
    "j=[]\n",
    "for even in mylist:\n",
    "    if even != 2 and even % 2 ==0:\n",
    "        print([even])\n",
    "        \n",
    "    \n",
    "j = [even for even in mylist if even != 2 and even % 2 == 0]\n",
    "print(j)"
   ]
  },
  {
   "cell_type": "code",
   "execution_count": 1,
   "metadata": {},
   "outputs": [
    {
     "name": "stdout",
     "output_type": "stream",
     "text": [
      "[0, 1, 4, 9]\n",
      "[0, 1, 4, 9]\n"
     ]
    }
   ],
   "source": [
    "# List comprehensions, print the squares of the existing list\n",
    "\n",
    "lc = []\n",
    "for i in range(4):\n",
    "    lc.append(i ** 2)\n",
    "print(lc)\n",
    "\n",
    "# we can comprehend the same as\n",
    "lc = [i ** 2 for i in range (4)]\n",
    "print(lc)\n",
    "\n"
   ]
  },
  {
   "cell_type": "code",
   "execution_count": 19,
   "metadata": {},
   "outputs": [
    {
     "name": "stdout",
     "output_type": "stream",
     "text": [
      "[1, 4, 9, 16, 25, 36, 49, 64, 81]\n",
      "[(1, 1), (2, 2), (3, 3), (4, 4), (5, 5), (6, 6), (7, 7), (8, 8), (9, 9)]\n",
      "[4, 6, 8]\n",
      "[4, 6, 8]\n"
     ]
    }
   ],
   "source": [
    "list1=[1,2,3,4,5,6,7,8,9]\n",
    "\n",
    "#find the squares of items in the list\n",
    "squareitems = [i ** 2 for i in list1]\n",
    "print(squareitems)\n",
    "\n",
    "# find patten of (x,x)\n",
    "pattern = [(i , i) for i in list1]\n",
    "print(pattern)\n",
    "\n",
    "# find only even numbers greater than 2\n",
    "\n",
    "even = [i for i in list1 if i > 2 and i % 2 ==0]\n",
    "print(even)\n",
    "\n",
    "for i in list1:\n",
    "    if i != 2 and i % 2 == 0:\n",
    "        i = even\n",
    "print(even)"
   ]
  },
  {
   "cell_type": "code",
   "execution_count": 32,
   "metadata": {},
   "outputs": [
    {
     "name": "stdout",
     "output_type": "stream",
     "text": [
      "[0.5, 2.0, 3.5, 1.0, 2.5, 4.0, 1.5, 3.0, 4.5]\n",
      "[[0.5, 1.0, 1.5], [2.0, 2.5, 3.0], [3.5, 4.0, 4.5]]\n"
     ]
    }
   ],
   "source": [
    "# create 3*3 matrix that stores half of the values from 0 to 9\n",
    "\n",
    "matrix = []\n",
    "for j in range(0,3):\n",
    "    for i in range(1,10,3):\n",
    "        matrix.append((i+j)/2)\n",
    "print(matrix)\n",
    "\n",
    "matrix = []\n",
    "[matrix.append ([(i + j ) / 2 for j in range (0,3)]) for i in range(1,10,3)]\n",
    "print(matrix)\n",
    "        "
   ]
  },
  {
   "cell_type": "code",
   "execution_count": 26,
   "metadata": {},
   "outputs": [
    {
     "name": "stdout",
     "output_type": "stream",
     "text": [
      "The list of leap years between 2000 and 2050 are :  [1000, 1004, 1008, 1012, 1016, 1020, 1024, 1028, 1032, 1036, 1040, 1044, 1048, 1052, 1056, 1060, 1064, 1068, 1072, 1076, 1080, 1084, 1088, 1092, 1096, 1100, 1104, 1108, 1112, 1116, 1120, 1124, 1128, 1132, 1136, 1140, 1144, 1148, 1152, 1156, 1160, 1164, 1168, 1172, 1176, 1180, 1184, 1188, 1192, 1196, 1200, 1204, 1208, 1212, 1216, 1220, 1224, 1228, 1232, 1236, 1240, 1244, 1248, 1252, 1256, 1260, 1264, 1268, 1272, 1276, 1280, 1284, 1288, 1292, 1296, 1300, 1304, 1308, 1312, 1316, 1320, 1324, 1328, 1332, 1336, 1340, 1344, 1348, 1352, 1356, 1360, 1364, 1368, 1372, 1376, 1380, 1384, 1388, 1392, 1396, 1400, 1404, 1408, 1412, 1416, 1420, 1424, 1428, 1432, 1436, 1440, 1444, 1448, 1452, 1456, 1460, 1464, 1468, 1472, 1476, 1480, 1484, 1488, 1492, 1496, 1500, 1504, 1508, 1512, 1516, 1520, 1524, 1528, 1532, 1536, 1540, 1544, 1548, 1552, 1556, 1560, 1564, 1568, 1572, 1576, 1580, 1584, 1588, 1592, 1596, 1600, 1604, 1608, 1612, 1616, 1620, 1624, 1628, 1632, 1636, 1640, 1644, 1648, 1652, 1656, 1660, 1664, 1668, 1672, 1676, 1680, 1684, 1688, 1692, 1696, 1700, 1704, 1708, 1712, 1716, 1720, 1724, 1728, 1732, 1736, 1740, 1744, 1748, 1752, 1756, 1760, 1764, 1768, 1772, 1776, 1780, 1784, 1788, 1792, 1796, 1800, 1804, 1808, 1812, 1816, 1820, 1824, 1828, 1832, 1836, 1840, 1844, 1848, 1852, 1856, 1860, 1864, 1868, 1872, 1876, 1880, 1884, 1888, 1892, 1896, 1900, 1904, 1908, 1912, 1916, 1920, 1924, 1928, 1932, 1936, 1940, 1944, 1948, 1952, 1956, 1960, 1964, 1968, 1972, 1976, 1980, 1984, 1988, 1992, 1996]\n"
     ]
    }
   ],
   "source": [
    "# Leap year program\n",
    "\n",
    "leapyear = []\n",
    "NotLeap = []\n",
    "for i in range (1000,2000):\n",
    "    if i % 4 == 0 or i % 400 == 0:\n",
    "        leapyear.append(i)\n",
    "print(\"The list of leap years between 2000 and 2050 are : \",leapyear)\n",
    "\n",
    "        "
   ]
  },
  {
   "cell_type": "code",
   "execution_count": 29,
   "metadata": {},
   "outputs": [
    {
     "name": "stdout",
     "output_type": "stream",
     "text": [
      "The list of leap years between 2000 and 2050 are :  [1004, 1008, 1012, 1016, 1020, 1024, 1028, 1032, 1036, 1040, 1044, 1048, 1052, 1056, 1060, 1064, 1068, 1072, 1076, 1080, 1084, 1088, 1092, 1096, 1104, 1108, 1112, 1116, 1120, 1124, 1128, 1132, 1136, 1140, 1144, 1148, 1152, 1156, 1160, 1164, 1168, 1172, 1176, 1180, 1184, 1188, 1192, 1196, 1204, 1208, 1212, 1216, 1220, 1224, 1228, 1232, 1236, 1240, 1244, 1248, 1252, 1256, 1260, 1264, 1268, 1272, 1276, 1280, 1284, 1288, 1292, 1296, 1304, 1308, 1312, 1316, 1320, 1324, 1328, 1332, 1336, 1340, 1344, 1348, 1352, 1356, 1360, 1364, 1368, 1372, 1376, 1380, 1384, 1388, 1392, 1396, 1404, 1408, 1412, 1416, 1420, 1424, 1428, 1432, 1436, 1440, 1444, 1448, 1452, 1456, 1460, 1464, 1468, 1472, 1476, 1480, 1484, 1488, 1492, 1496, 1504, 1508, 1512, 1516, 1520, 1524, 1528, 1532, 1536, 1540, 1544, 1548, 1552, 1556, 1560, 1564, 1568, 1572, 1576, 1580, 1584, 1588, 1592, 1596, 1604, 1608, 1612, 1616, 1620, 1624, 1628, 1632, 1636, 1640, 1644, 1648, 1652, 1656, 1660, 1664, 1668, 1672, 1676, 1680, 1684, 1688, 1692, 1696, 1704, 1708, 1712, 1716, 1720, 1724, 1728, 1732, 1736, 1740, 1744, 1748, 1752, 1756, 1760, 1764, 1768, 1772, 1776, 1780, 1784, 1788, 1792, 1796, 1804, 1808, 1812, 1816, 1820, 1824, 1828, 1832, 1836, 1840, 1844, 1848, 1852, 1856, 1860, 1864, 1868, 1872, 1876, 1880, 1884, 1888, 1892, 1896, 1904, 1908, 1912, 1916, 1920, 1924, 1928, 1932, 1936, 1940, 1944, 1948, 1952, 1956, 1960, 1964, 1968, 1972, 1976, 1980, 1984, 1988, 1992, 1996]\n"
     ]
    }
   ],
   "source": [
    "# Leap year program\n",
    "\n",
    "leapyear = []\n",
    "NotLeap = []\n",
    "for i in range (1000,2000):\n",
    "    if (i % 4 == 0 or i % 400 == 0) and (i % 100 != 0):\n",
    "        leapyear.append(i)\n",
    "print(\"The list of leap years between 2000 and 2050 are : \",leapyear)\n",
    "\n",
    "        "
   ]
  }
 ],
 "metadata": {
  "kernelspec": {
   "display_name": "Python 3",
   "language": "python",
   "name": "python3"
  },
  "language_info": {
   "codemirror_mode": {
    "name": "ipython",
    "version": 3
   },
   "file_extension": ".py",
   "mimetype": "text/x-python",
   "name": "python",
   "nbconvert_exporter": "python",
   "pygments_lexer": "ipython3",
   "version": "3.7.1"
  }
 },
 "nbformat": 4,
 "nbformat_minor": 2
}
