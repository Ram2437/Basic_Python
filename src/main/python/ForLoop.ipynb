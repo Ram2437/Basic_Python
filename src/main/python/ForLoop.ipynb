{
 "cells": [
  {
   "cell_type": "code",
   "execution_count": 10,
   "metadata": {},
   "outputs": [
    {
     "name": "stdout",
     "output_type": "stream",
     "text": [
      "Multiplication of my list is: 120\n"
     ]
    }
   ],
   "source": [
    "#For loop to calculate sum of numbers\n",
    "\n",
    "mylist = [1, 2, 3, 4, 5]\n",
    "multiply=1\n",
    "for element in mylist:\n",
    "    multiply *= element\n",
    "    \n",
    "print(\"Multiplication of my list is: {}\".format(multiply))\n"
   ]
  },
  {
   "cell_type": "code",
   "execution_count": 15,
   "metadata": {},
   "outputs": [
    {
     "name": "stdout",
     "output_type": "stream",
     "text": [
      "0\n",
      "1\n",
      "2\n",
      "3\n",
      "4\n",
      "5\n"
     ]
    }
   ],
   "source": [
    "for element in range(6):\n",
    "    print(element)"
   ]
  },
  {
   "cell_type": "code",
   "execution_count": 16,
   "metadata": {},
   "outputs": [
    {
     "name": "stdout",
     "output_type": "stream",
     "text": [
      "1\n",
      "3\n",
      "5\n",
      "7\n",
      "9\n",
      "11\n",
      "13\n",
      "15\n",
      "17\n",
      "19\n"
     ]
    }
   ],
   "source": [
    "    for element in range(1,20,2):\n",
    "        print(element)"
   ]
  },
  {
   "cell_type": "code",
   "execution_count": 62,
   "metadata": {},
   "outputs": [
    {
     "name": "stdout",
     "output_type": "stream",
     "text": [
      "krishna\n",
      "completed printing my employee list\n",
      "outside the for else block\n"
     ]
    }
   ],
   "source": [
    "employee =['rama', 'krishna', 'jai']\n",
    "\n",
    "for name in employee:\n",
    "    if name == 'krishna':\n",
    "        print(name)\n",
    "else:\n",
    "    print(\"completed printing my employee list\")\n",
    "\n",
    "print(\"outside the for else block\")\n"
   ]
  },
  {
   "cell_type": "code",
   "execution_count": 5,
   "metadata": {},
   "outputs": [
    {
     "name": "stdout",
     "output_type": "stream",
     "text": [
      "please input the number: 6\n",
      "[1, 2, 3, 6]\n"
     ]
    }
   ],
   "source": [
    "# Program to calculate divisors of a number\n",
    "\n",
    "ipnumber = input(\"please input the number: \")\n",
    "number = int(ipnumber)\n",
    "listofdivisors = [1]\n",
    "for divisor in range(2,number + 1):\n",
    "    if number % divisor == 0:\n",
    "        listofdivisors.append(divisor)\n",
    "print(listofdivisors)"
   ]
  },
  {
   "cell_type": "code",
   "execution_count": 59,
   "metadata": {},
   "outputs": [
    {
     "name": "stdout",
     "output_type": "stream",
     "text": [
      "rama\n",
      "outside the for else block\n"
     ]
    }
   ],
   "source": [
    "# Break statememt\n",
    "\n",
    "employee =['rama', 'krishna', 'jai']\n",
    "for name in employee:\n",
    "    if name == 'krishna':\n",
    "        break\n",
    "    print(name)\n",
    "else:\n",
    "    print(\" for is completed \")\n",
    "\n",
    "print(\"outside the for else block\")\n"
   ]
  },
  {
   "cell_type": "code",
   "execution_count": 64,
   "metadata": {},
   "outputs": [
    {
     "name": "stdout",
     "output_type": "stream",
     "text": [
      "rama\n",
      "jai\n",
      "for is completed \n",
      "outside the for else block\n"
     ]
    }
   ],
   "source": [
    "# continue statememt\n",
    "\n",
    "employee =['rama', 'krishna', 'jai']\n",
    "for name in employee:\n",
    "    if name == 'krishna':\n",
    "        continue               # if continue condition is satisfied, then we skip this line and continue with the next iteration\n",
    "    print(name)                  \n",
    "else:\n",
    "    print(\"for is completed \")\n",
    "\n",
    "print(\"outside the for else block\")"
   ]
  },
  {
   "cell_type": "code",
   "execution_count": 13,
   "metadata": {},
   "outputs": [
    {
     "name": "stdout",
     "output_type": "stream",
     "text": [
      "Please provide with a number: 22\n",
      "[1, 11, 22]\n"
     ]
    }
   ],
   "source": [
    "# First 3 divisors of a number except 2 & 3\n",
    "\n",
    "inputnumber = input(\"Please provide with a number: \")\n",
    "number = int(inputnumber)\n",
    "lofdivisors = [1]\n",
    "for divisors in range(2, number + 1):\n",
    "    if number % divisors == 0:\n",
    "        if divisors in [2,3]:\n",
    "            continue\n",
    "        elif len(lofdivisors) == 3:\n",
    "            break\n",
    "        lofdivisors.append(divisors)\n",
    "print(lofdivisors)"
   ]
  },
  {
   "cell_type": "code",
   "execution_count": 15,
   "metadata": {},
   "outputs": [
    {
     "name": "stdout",
     "output_type": "stream",
     "text": [
      "Please provide with a number: 0\n",
      "The factorial of 0 is 1\n"
     ]
    }
   ],
   "source": [
    "# Factorial of a number\n",
    "\n",
    "inputnumber = input(\"Please provide with a number: \")\n",
    "num = int(inputnumber)\n",
    "factorial=1\n",
    "if num < 0:\n",
    "   print(\"Sorry, factorial does not exist for negative numbers\")\n",
    "elif num == 0:\n",
    "   print(\"The factorial of 0 is 1\")\n",
    "else:\n",
    "   for i in range(1,num+1):\n",
    "       factorial = factorial*i\n",
    "   print(\"The factorial of\",num,\"is\",factorial)"
   ]
  },
  {
   "cell_type": "code",
   "execution_count": 17,
   "metadata": {},
   "outputs": [
    {
     "name": "stdout",
     "output_type": "stream",
     "text": [
      "Please provide with a number: 2\n",
      "The num which you have entered is  2 is positive\n"
     ]
    }
   ],
   "source": [
    "# check if number is positive, negative or zero\n",
    "\n",
    "inputnumber = input(\"Please provide with a number: \")\n",
    "num = int(inputnumber)\n",
    "\n",
    "if num < 0:\n",
    "    print (\"The num which you have entered is \",num, \"is negative\")\n",
    "elif num == 0:\n",
    "    print (\"The num which you have entered is \",num, \"is zero\")\n",
    "else:\n",
    "    print (\"The num which you have entered is \",num, \"is positive\")\n"
   ]
  },
  {
   "cell_type": "code",
   "execution_count": 5,
   "metadata": {},
   "outputs": [
    {
     "name": "stdout",
     "output_type": "stream",
     "text": [
      "Enter a number: 2\n",
      "2 is a prime number\n"
     ]
    }
   ],
   "source": [
    "# check if number is primenumber or not\n",
    "\n",
    "\n",
    "#num = 407\n",
    "\n",
    "# take input from the user\n",
    "num = int(input(\"Enter a number: \"))\n",
    "\n",
    "# prime numbers are greater than 1\n",
    "if num > 1:\n",
    "   # check for factors\n",
    "   for i in range(2,num):\n",
    "       if (num % i) == 0:\n",
    "           print(num,\"is not a prime number\")\n",
    "           print(i,\"times\",num//i,\"is\",num)\n",
    "           break\n",
    "   else:\n",
    "       print(num,\"is a prime number\")\n",
    "       \n",
    "# if input number is less than\n",
    "# or equal to 1, it is not prime\n",
    "else:\n",
    "   print(num,\"is not a prime number\")"
   ]
  },
  {
   "cell_type": "code",
   "execution_count": 2,
   "metadata": {},
   "outputs": [
    {
     "name": "stdout",
     "output_type": "stream",
     "text": [
      "Prime numbers between 2 and 100 are:\n",
      "2\n",
      "3\n",
      "5\n",
      "7\n",
      "11\n",
      "13\n",
      "17\n",
      "19\n",
      "23\n",
      "29\n",
      "31\n",
      "37\n",
      "41\n",
      "43\n",
      "47\n",
      "53\n",
      "59\n",
      "61\n",
      "67\n",
      "71\n",
      "73\n",
      "79\n",
      "83\n",
      "89\n",
      "97\n"
     ]
    }
   ],
   "source": [
    "\n",
    "lower = 2\n",
    "upper = 100\n",
    "print(\"Prime numbers between\",lower,\"and\",upper,\"are:\")\n",
    "\n",
    "for num in range(lower,upper + 1):\n",
    "   # prime numbers are greater than 1\n",
    "   if num > 1:\n",
    "       for i in range(2,num):\n",
    "           if (num % i) == 0:\n",
    "               break\n",
    "       else:\n",
    "           print(num)"
   ]
  },
  {
   "cell_type": "code",
   "execution_count": 3,
   "metadata": {},
   "outputs": [
    {
     "name": "stdout",
     "output_type": "stream",
     "text": [
      "Please, provide lower number: 100\n",
      "Please, provide upper number: 1000\n",
      "153\n",
      "370\n",
      "371\n",
      "407\n"
     ]
    }
   ],
   "source": [
    "# Program to find armstrong number\n",
    "\n",
    "# Program to find armstrong number\n",
    "\n",
    "lower=100\n",
    "upper=1000\n",
    "\n",
    "lower = int(input(\"Please, provide lower number: \"))\n",
    "upper = int(input(\"Please, provide upper number: \"))\n",
    "\n",
    "for i in range (lower , upper):\n",
    "    num = i\n",
    "    result = 0\n",
    "    n = len(str(i))\n",
    "    while (i != 0):\n",
    "        digit = i % 10\n",
    "        result = result + (digit ** n)\n",
    "        i = i // 10\n",
    "    if num == result:\n",
    "        print (num)"
   ]
  },
  {
   "cell_type": "code",
   "execution_count": 2,
   "metadata": {},
   "outputs": [
    {
     "name": "stdout",
     "output_type": "stream",
     "text": [
      "2\n"
     ]
    }
   ],
   "source": [
    "num=40\n",
    "print(len(str(num)))"
   ]
  }
 ],
 "metadata": {
  "kernelspec": {
   "display_name": "Python 3",
   "language": "python",
   "name": "python3"
  },
  "language_info": {
   "codemirror_mode": {
    "name": "ipython",
    "version": 3
   },
   "file_extension": ".py",
   "mimetype": "text/x-python",
   "name": "python",
   "nbconvert_exporter": "python",
   "pygments_lexer": "ipython3",
   "version": "3.7.1"
  }
 },
 "nbformat": 4,
 "nbformat_minor": 2
}
