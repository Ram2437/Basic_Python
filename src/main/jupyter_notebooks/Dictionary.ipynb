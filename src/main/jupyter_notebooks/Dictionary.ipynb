{
 "cells": [
  {
   "cell_type": "code",
   "execution_count": 5,
   "metadata": {},
   "outputs": [
    {
     "name": "stdout",
     "output_type": "stream",
     "text": [
      "{99: 'Rama', 100: 'Tanvi'}\n",
      "{'name': 'Divya', 'set1': [56, 'tanvi', 66]}\n"
     ]
    }
   ],
   "source": [
    "myemptdict = {}\n",
    "myintdict = {99:'Rama',100:'Tanvi'}\n",
    "print(myintdict)\n",
    "mymixeddict = {'name':'Divya','set1':[56,'tanvi',66]}\n",
    "print(mymixeddict)"
   ]
  },
  {
   "cell_type": "code",
   "execution_count": 11,
   "metadata": {},
   "outputs": [
    {
     "name": "stdout",
     "output_type": "stream",
     "text": [
      "{4: 'Rama', 'Divya': 2}\n"
     ]
    }
   ],
   "source": [
    "# Crteate list of tuples using dict() method\n",
    "\n",
    "mydict = dict()\n",
    "\n",
    "diclistoftup = dict([(4,'Rama'),('Divya',2)])\n",
    "print(diclistoftup)"
   ]
  },
  {
   "cell_type": "code",
   "execution_count": 17,
   "metadata": {},
   "outputs": [
    {
     "name": "stdout",
     "output_type": "stream",
     "text": [
      "Tanvi\n",
      "Divya\n",
      "Divya\n"
     ]
    }
   ],
   "source": [
    "#Accessing dictionary using key\n",
    "\n",
    "myintdict = {99:'Rama',100:'Tanvi','Name':'Divya'}\n",
    "print(myintdict[100])\n",
    "print(myintdict['Name'])\n",
    "print(myintdict['Home'])"
   ]
  },
  {
   "cell_type": "code",
   "execution_count": 19,
   "metadata": {},
   "outputs": [
    {
     "name": "stdout",
     "output_type": "stream",
     "text": [
      "Divya\n",
      "None\n"
     ]
    }
   ],
   "source": [
    "#Accessing dictionary using get() method\n",
    "\n",
    "print(myintdict.get('Name'))\n",
    "print(myintdict.get('Home'))"
   ]
  },
  {
   "cell_type": "code",
   "execution_count": 6,
   "metadata": {},
   "outputs": [
    {
     "name": "stdout",
     "output_type": "stream",
     "text": [
      "krishna\n",
      "{99: 'krishna', 100: 'Tanvi', 'Name': 'Divya', 'code': 'EMP009'}\n",
      "{99: 'krishna', 100: 'Tanvi', 'code': 'EMP009'}\n"
     ]
    }
   ],
   "source": [
    "'''\n",
    "Modify values in Dictionary\n",
    "'''\n",
    "\n",
    "myintdict = {99:'Rama',100:'Tanvi','Name':'Divya'}\n",
    "myintdict[99] = 'krishna'\n",
    "print(myintdict[99])\n",
    "myintdict['code'] = 'EMP009'\n",
    "print(myintdict)\n",
    "del(myintdict['Name'])\n",
    "print(myintdict)"
   ]
  },
  {
   "cell_type": "code",
   "execution_count": 9,
   "metadata": {},
   "outputs": [
    {
     "name": "stdout",
     "output_type": "stream",
     "text": [
      "Tanvi\n",
      "{99: 'Rama', 'Name': 'Divya'}\n"
     ]
    }
   ],
   "source": [
    "myintdict = {99:'Rama',100:'Tanvi','Name':'Divya'}\n",
    "print(myintdict.pop(100))\n",
    "print(myintdict)"
   ]
  },
  {
   "cell_type": "code",
   "execution_count": 10,
   "metadata": {},
   "outputs": [
    {
     "name": "stdout",
     "output_type": "stream",
     "text": [
      "{'audi': 0, 'MG': 0, 'Honda': 0}\n"
     ]
    }
   ],
   "source": [
    "#fromkeys[seq[,v]]\n",
    "\n",
    "cars = {}.fromkeys(['audi','MG','Honda'],0)\n",
    "print(cars)"
   ]
  },
  {
   "cell_type": "code",
   "execution_count": 13,
   "metadata": {},
   "outputs": [
    {
     "name": "stdout",
     "output_type": "stream",
     "text": [
      "dict_items([(2, 5), (6, 55), (99, 33)])\n"
     ]
    }
   ],
   "source": [
    "vardict = {2:5,6:55,99:33}\n",
    "print (vardict.items())"
   ]
  },
  {
   "cell_type": "code",
   "execution_count": 26,
   "metadata": {},
   "outputs": [
    {
     "name": "stdout",
     "output_type": "stream",
     "text": [
      "dict_keys(['audi', 'MG', 'Honda'])\n",
      "dict_values(['A4', 'ZX', 'CRV'])\n"
     ]
    }
   ],
   "source": [
    "carbrands = {'audi': 'A4', 'MG': 'ZX', 'Honda': 'CRV'}\n",
    "print(carbrands.keys())\n",
    "print(carbrands.values())"
   ]
  },
  {
   "cell_type": "code",
   "execution_count": 39,
   "metadata": {},
   "outputs": [
    {
     "name": "stdout",
     "output_type": "stream",
     "text": [
      "['__class__', '__contains__', '__delattr__', '__delitem__', '__dir__', '__doc__', '__eq__', '__format__', '__ge__', '__getattribute__', '__getitem__', '__gt__', '__hash__', '__init__', '__init_subclass__', '__iter__', '__le__', '__len__', '__lt__', '__ne__', '__new__', '__reduce__', '__reduce_ex__', '__repr__', '__setattr__', '__setitem__', '__sizeof__', '__str__', '__subclasshook__', 'clear', 'copy', 'fromkeys', 'get', 'items', 'keys', 'pop', 'popitem', 'setdefault', 'update', 'values']\n"
     ]
    }
   ],
   "source": [
    "dict={}\n",
    "print(dir(dict))"
   ]
  }
 ],
 "metadata": {
  "kernelspec": {
   "display_name": "Python 3",
   "language": "python",
   "name": "python3"
  },
  "language_info": {
   "codemirror_mode": {
    "name": "ipython",
    "version": 3
   },
   "file_extension": ".py",
   "mimetype": "text/x-python",
   "name": "python",
   "nbconvert_exporter": "python",
   "pygments_lexer": "ipython3",
   "version": "3.7.1"
  }
 },
 "nbformat": 4,
 "nbformat_minor": 2
}
