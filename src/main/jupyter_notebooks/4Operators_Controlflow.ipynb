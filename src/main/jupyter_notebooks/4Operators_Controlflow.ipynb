{
 "cells": [
  {
   "cell_type": "code",
   "execution_count": 4,
   "metadata": {},
   "outputs": [
    {
     "name": "stdout",
     "output_type": "stream",
     "text": [
      "7\n",
      "-3\n",
      "10\n",
      "0.4\n",
      "2\n",
      "0\n",
      "32\n"
     ]
    }
   ],
   "source": [
    "#Operators\n",
    "\n",
    "value1,value2 = 2,5\n",
    "print(value1 + value2)\n",
    "print(value1 - value2)\n",
    "print(value1 * value2)\n",
    "print(value1 / value2)\n",
    "print(value1 % value2)\n",
    "print(value1 // value2) #Floor Division-closest lower integer value\n",
    "print(value1 ** value2)\n",
    "\n"
   ]
  },
  {
   "cell_type": "code",
   "execution_count": 5,
   "metadata": {},
   "outputs": [
    {
     "name": "stdout",
     "output_type": "stream",
     "text": [
      "False\n",
      "True\n",
      "False\n",
      "True\n",
      "False\n",
      "True\n"
     ]
    }
   ],
   "source": [
    "#Comparision operators\n",
    "\n",
    "print(value1 > value2)\n",
    "print(value1 < value2)\n",
    "print(value1 == value2)\n",
    "print(value1 != value2)\n",
    "print(value1 >= value2)\n",
    "print(value1 <= value2)\n"
   ]
  },
  {
   "cell_type": "code",
   "execution_count": 6,
   "metadata": {},
   "outputs": [
    {
     "name": "stdout",
     "output_type": "stream",
     "text": [
      "False\n",
      "True\n",
      "False\n"
     ]
    }
   ],
   "source": [
    "# Logical operators\n",
    "\n",
    "logical1,logical2 = True , False\n",
    "\n",
    "print(logical1 and logical2)\n",
    "print(logical1 or logical2)\n",
    "print(not logical1)"
   ]
  },
  {
   "cell_type": "code",
   "execution_count": 3,
   "metadata": {},
   "outputs": [
    {
     "name": "stdout",
     "output_type": "stream",
     "text": [
      "0\n",
      "7\n",
      "-6\n",
      "7\n",
      "0\n",
      "8\n"
     ]
    }
   ],
   "source": [
    "# Bitwise operators | Decimal to bit wise values of 2 and 5 are 0000 0010 and 0000 0101\n",
    "\n",
    "value1,value2 = 2,5\n",
    "\n",
    "print(value1 & value2)     # Bitwise AND\n",
    "print(value1 | value2)     # Bitwise OR\n",
    "print(~value2)           # Bitwise NOT\n",
    "print(value1 ^ value2)     # Bitwise XOR\n",
    "print(value1 >> 2)    # Bitwise Rightshift\n",
    "print(value1 << 2)    # Bitwise Leftshift\n"
   ]
  },
  {
   "cell_type": "code",
   "execution_count": 12,
   "metadata": {},
   "outputs": [
    {
     "name": "stdout",
     "output_type": "stream",
     "text": [
      "400\n"
     ]
    }
   ],
   "source": [
    "# Assignment operator += , -= , *= , /= , %= , //= (Floor Division), **= (Exponent)\n",
    "\n",
    "count=20\n",
    "'count= count + 2 is same as count += 2'\n",
    "count **= 2\n",
    "print(count)"
   ]
  },
  {
   "cell_type": "code",
   "execution_count": 26,
   "metadata": {},
   "outputs": [
    {
     "name": "stdout",
     "output_type": "stream",
     "text": [
      "True\n",
      "140708034819504\n",
      "140708034819504\n",
      "False\n",
      "2160803593352\n",
      "2160802903816\n",
      "True\n"
     ]
    }
   ],
   "source": [
    "# Special Operators\n",
    "# Identity Operators\n",
    "\n",
    "variable1, variable2=20,20\n",
    "print(variable1 is variable2)\n",
    "print(id(variable1))\n",
    "print(id(variable2))\n",
    "\n",
    "mylist1=[1,2,3] #Doesn't work for list\n",
    "mylist2=[1,2,3]\n",
    "print(mylist1 is mylist2)\n",
    "print(id(mylist1))\n",
    "print(id(mylist2))\n",
    "\n",
    "name1,name2='Rama','krishna'\n",
    "print(name1 is not name2)\n"
   ]
  },
  {
   "cell_type": "code",
   "execution_count": 13,
   "metadata": {},
   "outputs": [
    {
     "name": "stdout",
     "output_type": "stream",
     "text": [
      "(2, 3, 1, 6, 3)\n",
      "True\n",
      "True\n",
      "True\n"
     ]
    }
   ],
   "source": [
    "# Membership Operators (in,not in)\n",
    "\n",
    "mytuple= (2,3,1,6,3)\n",
    "print(mytuple)\n",
    "print(2 in mytuple)\n",
    "print(10 not in mytuple)\n",
    "\n",
    "myDict= { 123 : 'Male', 23: '6' }\n",
    "print( 23 in myDict)"
   ]
  },
  {
   "cell_type": "code",
   "execution_count": 10,
   "metadata": {},
   "outputs": [
    {
     "name": "stdout",
     "output_type": "stream",
     "text": [
      "False\n",
      "True\n"
     ]
    }
   ],
   "source": [
    "# 0 and none is False, non zero value is True\n",
    "\n",
    "val1=[]\n",
    "print(bool(val1))\n",
    "\n",
    "val1=9\n",
    "print(bool(val1))"
   ]
  },
  {
   "cell_type": "code",
   "execution_count": null,
   "metadata": {},
   "outputs": [],
   "source": [
    "#Control Flow (if - else)\n",
    "\n",
    "number=30\n",
    "\n",
    "if number<15:\n",
    "   print(\"number is less than 15\")\n",
    "else:\n",
    "   print(\"number is not less than 15\")"
   ]
  },
  {
   "cell_type": "code",
   "execution_count": 4,
   "metadata": {},
   "outputs": [
    {
     "name": "stdout",
     "output_type": "stream",
     "text": [
      "Adult\n"
     ]
    }
   ],
   "source": [
    "#Control Flow (if - elif)\n",
    "\n",
    "age=110\n",
    "\n",
    "if age > 18:\n",
    "    print(\"Adult\")\n",
    "elif age > 12:\n",
    "    print(\"Teen\")\n",
    "else:\n",
    "    print(\"child\")"
   ]
  },
  {
   "cell_type": "code",
   "execution_count": 14,
   "metadata": {},
   "outputs": [
    {
     "name": "stdout",
     "output_type": "stream",
     "text": [
      "Teen\n"
     ]
    }
   ],
   "source": [
    "# Nested IF (Indentation b/w if block is important to identify the level of nesting)\n",
    "\n",
    "age=17\n",
    "\n",
    "if age >= 12:\n",
    "    if age <= 17:\n",
    "        print (\"Teen\")\n",
    "    elif age >= 18:\n",
    "        print (\"Adult\")\n",
    "else:\n",
    "    print(\"Child\")"
   ]
  },
  {
   "cell_type": "code",
   "execution_count": 5,
   "metadata": {},
   "outputs": [
    {
     "name": "stdout",
     "output_type": "stream",
     "text": [
      "1\n"
     ]
    }
   ],
   "source": [
    "# Find the sum of all numbers in a list\n",
    "\n",
    "myList = [1, 2, 3, 4, 5]\n",
    "\n",
    "sum = 0\n",
    "index = 0\n",
    "print( myList[index] )\n",
    "\n"
   ]
  },
  {
   "cell_type": "code",
   "execution_count": 1,
   "metadata": {},
   "outputs": [
    {
     "name": "stdout",
     "output_type": "stream",
     "text": [
      "Enter n: 22\n",
      "253\n"
     ]
    }
   ],
   "source": [
    "n = int(input(\"Enter n: \"))\n",
    "i=1\n",
    "sum=0\n",
    "\n",
    "while i <= n:\n",
    "    sum += i\n",
    "    i += 1\n",
    "print(sum)"
   ]
  },
  {
   "cell_type": "code",
   "execution_count": 3,
   "metadata": {},
   "outputs": [
    {
     "name": "stdout",
     "output_type": "stream",
     "text": [
      "Sum of the array is: 15\n"
     ]
    }
   ],
   "source": [
    "# Find the sum of all numbers in a list\n",
    "\n",
    "myList = [1, 2, 3, 4, 5]\n",
    "\n",
    "sum = 0\n",
    "index = 0\n",
    "\n",
    "while index < len(myList):\n",
    "    sum += myList[index]                      # sum = sum + myList[index]\n",
    "    index += 1                                # index = index + 1\n",
    "print('Sum of the array is: {}'.format(sum))"
   ]
  },
  {
   "cell_type": "code",
   "execution_count": 2,
   "metadata": {},
   "outputs": [
    {
     "name": "stdout",
     "output_type": "stream",
     "text": [
      "Enter a positive non-zero number: 23\n",
      "Thank you, let me share the result with you\n",
      "The factorial of the number is:  25852016738884976640000\n"
     ]
    }
   ],
   "source": [
    "# To find the factorial of a number using while and if\n",
    "\n",
    "userInput = input(\"Enter a positive non-zero number: \")\n",
    "number = int(userInput)\n",
    "\n",
    "if number <= 0:\n",
    "    print('Invalid number please re-enter')\n",
    "    userInput = input(\"Enter a positive non-zero number: \")\n",
    "    number = int(userInput)\n",
    "    \n",
    "else:\n",
    "    print('Thank you, let me share the result with you')\n",
    "\n",
    "fact = 1\n",
    "while number > 0:\n",
    "    fact *= number                                      # fact = fact * number\n",
    "    number -= 1                                         # number = number -1\n",
    "print('The factorial of the number is: ', fact)\n",
    "        "
   ]
  },
  {
   "cell_type": "code",
   "execution_count": 7,
   "metadata": {},
   "outputs": [
    {
     "name": "stdout",
     "output_type": "stream",
     "text": [
      "1\n",
      "2\n",
      "3\n",
      "4\n",
      "5\n",
      "6\n",
      "7\n",
      "8\n",
      "9\n",
      "10\n"
     ]
    }
   ],
   "source": [
    "#increment number\n",
    "\n",
    "a=0\n",
    "while a<10:\n",
    "    a += 1\n",
    "    print(a)"
   ]
  },
  {
   "cell_type": "code",
   "execution_count": null,
   "metadata": {},
   "outputs": [],
   "source": [
    "'''\n",
    "Here is an example of a while loop being used to test a password.\n",
    "The password is secret and the code within the loop is executed until the user inputs the correct password.\n",
    "'''\n",
    "user_pswd = \"\"\n",
    "while user_pswd != \"secret\":\n",
    "    user_pswd = input(\"please enter the password: \")\n",
    "    if user_pswd == \"secret\":\n",
    "        print(\"Thankyou for entering the correct password\")\n",
    "    else:\n",
    "        print(\"we are unable to find your password\")"
   ]
  },
  {
   "cell_type": "code",
   "execution_count": 2,
   "metadata": {},
   "outputs": [
    {
     "name": "stdout",
     "output_type": "stream",
     "text": [
      "Please enter a number in the range 10 to 20: 3\n",
      "Sorry number must be between 10 and 20\n",
      "Please try again\n",
      "Please enter a number in the range 10 to 20: 11\n",
      "You entered 11\n",
      "This is a valid number\n"
     ]
    }
   ],
   "source": [
    "invalid = True\n",
    "while invalid:\n",
    "    number = int(input(\"Please enter a number in the range 10 to 20: \"))\n",
    "    if number >= 10 and number <= 20:\n",
    "        invalid = False\n",
    "    else:\n",
    "        print(\"Sorry number must be between 10 and 20\")\n",
    "        print(\"Please try again\")\n",
    "print(\"You entered {0}\".format(number))\n",
    "print(\"This is a valid number\")"
   ]
  }
 ],
 "metadata": {
  "kernelspec": {
   "display_name": "Python 3",
   "language": "python",
   "name": "python3"
  },
  "language_info": {
   "codemirror_mode": {
    "name": "ipython",
    "version": 3
   },
   "file_extension": ".py",
   "mimetype": "text/x-python",
   "name": "python",
   "nbconvert_exporter": "python",
   "pygments_lexer": "ipython3",
   "version": "3.7.1"
  }
 },
 "nbformat": 4,
 "nbformat_minor": 2
}
