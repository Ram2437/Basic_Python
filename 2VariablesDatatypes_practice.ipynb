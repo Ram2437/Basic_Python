{
 "cells": [
  {
   "cell_type": "code",
   "execution_count": 2,
   "metadata": {},
   "outputs": [
    {
     "name": "stdout",
     "output_type": "stream",
     "text": [
      "140717031535728\n",
      "140717031536048\n"
     ]
    }
   ],
   "source": [
    "#variables\n",
    "variable1=10\n",
    "variable2=20\n",
    "print(id(variable1))\n",
    "print(id(variable2))"
   ]
  },
  {
   "cell_type": "code",
   "execution_count": 7,
   "metadata": {},
   "outputs": [
    {
     "name": "stdout",
     "output_type": "stream",
     "text": [
      "2 2 6\n",
      "140717031535472\n",
      "140717031535472\n",
      "140717031535600\n"
     ]
    }
   ],
   "source": [
    "var1,var2,var3=2,2,6\n",
    "print(var1,var2,var3)\n",
    "print(id(var1))\n",
    "print(id(var2))\n",
    "print(id(var3))"
   ]
  },
  {
   "cell_type": "code",
   "execution_count": 12,
   "metadata": {},
   "outputs": [
    {
     "name": "stdout",
     "output_type": "stream",
     "text": [
      "10 10 10\n",
      "140717031535728\n",
      "140717031535728\n"
     ]
    }
   ],
   "source": [
    "var1=var2=var3=10\n",
    "print(var1,var2,var3)\n",
    "print(id(var1))\n",
    "print(id(var2))#stores the same location id for value '10' irrespective of the variable name"
   ]
  },
  {
   "cell_type": "code",
   "execution_count": 22,
   "metadata": {},
   "outputs": [
    {
     "name": "stdout",
     "output_type": "stream",
     "text": [
      "2427 is type of an <class 'int'>\n",
      "11.6 is type of an <class 'float'>\n",
      "(234+6j) is type of an <class 'complex'>\n"
     ]
    }
   ],
   "source": [
    "#Datatypes\n",
    "#Python Numbers\n",
    "\n",
    "Empid=2427\n",
    "print(Empid,'is type of an',type(Empid))\n",
    "\n",
    "dist=11.6\n",
    "print(dist,'is type of an',type(dist))\n",
    "\n",
    "data2=234 + 6j\n",
    "print(data2,'is type of an',type(data2))"
   ]
  },
  {
   "cell_type": "code",
   "execution_count": 28,
   "metadata": {},
   "outputs": [
    {
     "name": "stdout",
     "output_type": "stream",
     "text": [
      "<class 'bool'>\n"
     ]
    }
   ],
   "source": [
    "#boolean\n",
    "\n",
    "booleanvar=True\n",
    "print(type(booleanvar))"
   ]
  },
  {
   "cell_type": "code",
   "execution_count": 29,
   "metadata": {},
   "outputs": [
    {
     "name": "stdout",
     "output_type": "stream",
     "text": [
      " is  (234+6j)  type of class, complex? True\n"
     ]
    }
   ],
   "source": [
    "print(' is ',data2,' type of class, complex?', isinstance(data2,complex))"
   ]
  },
  {
   "cell_type": "code",
   "execution_count": 25,
   "metadata": {},
   "outputs": [
    {
     "name": "stdout",
     "output_type": "stream",
     "text": [
      "This is a string value\n"
     ]
    }
   ],
   "source": [
    "#Strings\n",
    "\n",
    "stringvariable='This is a string value'\n",
    "print(stringvariable)\n"
   ]
  },
  {
   "cell_type": "code",
   "execution_count": 30,
   "metadata": {},
   "outputs": [
    {
     "name": "stdout",
     "output_type": "stream",
     "text": [
      "This is a string value\n",
      "The first character in stringvariable is:  T\n",
      "The first four character in stringvariable is: This\n",
      "This is a string valu\n",
      "e\n",
      "This is a string val\n"
     ]
    }
   ],
   "source": [
    "#Slicing of string variables\n",
    "\n",
    "print(stringvariable)\n",
    "print('The first character in stringvariable is: ',stringvariable[0])\n",
    "print('The first four character in stringvariable is:',stringvariable[:4])\n",
    "print(stringvariable[:-1])\n",
    "print(stringvariable[-1:])\n",
    "print(stringvariable[:-2])"
   ]
  },
  {
   "cell_type": "code",
   "execution_count": 1,
   "metadata": {},
   "outputs": [
    {
     "name": "stdout",
     "output_type": "stream",
     "text": [
      "[1, 2.2, 'Helloworld', 33, 66.6]\n",
      "2.2\n",
      "[1, 2.2, 'Helloworld', 'text', 66.6]\n",
      "[1, 2.2, 'Helloworld', 66.6]\n",
      "[1, 2.2, 'Helloworld']\n",
      "[1, 2.2, 'Helloworld', 33.3]\n"
     ]
    }
   ],
   "source": [
    "#Python List\n",
    "\n",
    "Mylist=[ 1 , 2.2 , 'Helloworld' , 33 , 66.6  ]\n",
    "print(Mylist)\n",
    "print(Mylist[1])\n",
    "\n",
    "Mylist[3]='text' #Replace item in the list with index\n",
    "print(Mylist)\n",
    "\n",
    "Mylist.remove('text') #Remove item from the list\n",
    "print(Mylist)\n",
    "\n",
    "Mylist.pop(3) #Remove item from the list using index\n",
    "print(Mylist)\n",
    "\n",
    "Mylist.append(33.3) # Append value in the last index\n",
    "print(Mylist)\n",
    "\n"
   ]
  },
  {
   "cell_type": "code",
   "execution_count": 2,
   "metadata": {},
   "outputs": [
    {
     "name": "stdout",
     "output_type": "stream",
     "text": [
      "[23, 1, 23, 4, 56, 32]\n",
      "[1, 4, 23, 23, 32, 56]\n"
     ]
    }
   ],
   "source": [
    "#sorting and reverse sorted list\n",
    "\n",
    "list1= [23, 1, 23, 4, 56, 32]\n",
    "#list1.sort()                   original list can be sorted \n",
    "sortlist = sorted(list1)\n",
    "print(list1)\n",
    "print(sortlist)\n"
   ]
  },
  {
   "cell_type": "code",
   "execution_count": 3,
   "metadata": {},
   "outputs": [
    {
     "name": "stdout",
     "output_type": "stream",
     "text": [
      "[56, 32, 23, 23, 4, 1]\n",
      "Help on built-in function sorted in module builtins:\n",
      "\n",
      "sorted(iterable, /, *, key=None, reverse=False)\n",
      "    Return a new list containing all items from the iterable in ascending order.\n",
      "    \n",
      "    A custom key function can be supplied to customize the sort order, and the\n",
      "    reverse flag can be set to request the result in descending order.\n",
      "\n"
     ]
    }
   ],
   "source": [
    "revsortlist = sorted(list1, reverse=True)\n",
    "print(revsortlist)\n",
    "\n",
    "help(sorted)"
   ]
  },
  {
   "cell_type": "code",
   "execution_count": 7,
   "metadata": {},
   "outputs": [
    {
     "name": "stdout",
     "output_type": "stream",
     "text": [
      "My original list is:  [8, 4, 90, 54, 44]\n"
     ]
    }
   ],
   "source": [
    "# Multiple reference to a list- creates the same memory location of original list, \n",
    "#doen't create seperate memory location for reference variable\n",
    "\n",
    "mlist = [8, 4, 90, 54]\n",
    "myref = mlist\n",
    "myref.append(44)\n",
    "print(\"My original list is: \",mlist)"
   ]
  },
  {
   "cell_type": "code",
   "execution_count": 2,
   "metadata": {},
   "outputs": [
    {
     "name": "stdout",
     "output_type": "stream",
     "text": [
      "[8, 4, 90, 54, 'amy', 'krish', 99, 55.9, 98.55]\n",
      "[4, 90]\n",
      "[4, 90, 54, 'amy']\n"
     ]
    }
   ],
   "source": [
    "# List Slicing\n",
    "mylist = [8, 4, 90, 54, 'amy', 'krish', 99 ,55.9, 98.55]\n",
    "print(mylist[ : ])\n",
    "print(mylist[1:3])\n",
    "print(mylist[1 : 5])  "
   ]
  },
  {
   "cell_type": "code",
   "execution_count": 5,
   "metadata": {},
   "outputs": [
    {
     "name": "stdout",
     "output_type": "stream",
     "text": [
      "[98.55, 55.9, 99, 'krish', 'amy', 54, 90, 4, 8]\n",
      "[4, 54, 'krish']\n"
     ]
    }
   ],
   "source": [
    "#stride for skiping elements\n",
    "\n",
    "mylist = [8, 4, 90, 54, 'amy', 'krish', 99 ,55.9, 98.55]\n",
    "print(mylist[ ::-1])\n",
    "print(mylist[ 1:6:2])    # startindex : endindex : how many steps to be skipped by default it is 1\n",
    "                         # if it is 2 then it skips 1 element between 2 elements"
   ]
  },
  {
   "cell_type": "code",
   "execution_count": 6,
   "metadata": {},
   "outputs": [
    {
     "name": "stdout",
     "output_type": "stream",
     "text": [
      "[0, 1, 4, 9]\n",
      "[0, 1, 4, 9]\n"
     ]
    },
    {
     "ename": "NameError",
     "evalue": "name 'append' is not defined",
     "output_type": "error",
     "traceback": [
      "\u001b[1;31m---------------------------------------------------------------------------\u001b[0m",
      "\u001b[1;31mNameError\u001b[0m                                 Traceback (most recent call last)",
      "\u001b[1;32m<ipython-input-6-993302443a13>\u001b[0m in \u001b[0;36m<module>\u001b[1;34m\u001b[0m\n\u001b[0;32m      9\u001b[0m \u001b[0mlc\u001b[0m \u001b[1;33m=\u001b[0m \u001b[1;33m[\u001b[0m\u001b[0mi\u001b[0m \u001b[1;33m**\u001b[0m \u001b[1;36m2\u001b[0m \u001b[1;32mfor\u001b[0m \u001b[0mi\u001b[0m \u001b[1;32min\u001b[0m \u001b[0mrange\u001b[0m \u001b[1;33m(\u001b[0m\u001b[1;36m4\u001b[0m\u001b[1;33m)\u001b[0m\u001b[1;33m]\u001b[0m\u001b[1;33m\u001b[0m\u001b[1;33m\u001b[0m\u001b[0m\n\u001b[0;32m     10\u001b[0m \u001b[0mprint\u001b[0m\u001b[1;33m(\u001b[0m\u001b[0mlc\u001b[0m\u001b[1;33m)\u001b[0m\u001b[1;33m\u001b[0m\u001b[1;33m\u001b[0m\u001b[0m\n\u001b[1;32m---> 11\u001b[1;33m \u001b[0mhelp\u001b[0m\u001b[1;33m(\u001b[0m\u001b[0mappend\u001b[0m\u001b[1;33m)\u001b[0m\u001b[1;33m\u001b[0m\u001b[1;33m\u001b[0m\u001b[0m\n\u001b[0m",
      "\u001b[1;31mNameError\u001b[0m: name 'append' is not defined"
     ]
    }
   ],
   "source": [
    "# List comprehensions, print the squares of the existing list\n",
    "\n",
    "lc = []\n",
    "for i in range(4):\n",
    "    lc.append(i ** 2)\n",
    "print(lc)\n",
    "\n",
    "# we can comprehend the same as\n",
    "lc = [i ** 2 for i in range (4)]\n",
    "print(lc)\n",
    "\n"
   ]
  },
  {
   "cell_type": "code",
   "execution_count": 13,
   "metadata": {},
   "outputs": [
    {
     "name": "stdout",
     "output_type": "stream",
     "text": [
      "1\n",
      "4\n",
      "7\n"
     ]
    }
   ],
   "source": [
    "mlist = []\n",
    "for i in range (1,10,3):\n",
    "    mlist.append(i)\n",
    "    print(i)\n"
   ]
  },
  {
   "cell_type": "code",
   "execution_count": 1,
   "metadata": {},
   "outputs": [
    {
     "name": "stdout",
     "output_type": "stream",
     "text": [
      "(2, 3, 1, 6, 3)\n"
     ]
    },
    {
     "ename": "TypeError",
     "evalue": "'tuple' object does not support item assignment",
     "output_type": "error",
     "traceback": [
      "\u001b[1;31m---------------------------------------------------------------------------\u001b[0m",
      "\u001b[1;31mTypeError\u001b[0m                                 Traceback (most recent call last)",
      "\u001b[1;32m<ipython-input-1-df8b1f85dd28>\u001b[0m in \u001b[0;36m<module>\u001b[1;34m\u001b[0m\n\u001b[0;32m      4\u001b[0m \u001b[1;33m\u001b[0m\u001b[0m\n\u001b[0;32m      5\u001b[0m \u001b[0mprint\u001b[0m\u001b[1;33m(\u001b[0m\u001b[0mmytuple\u001b[0m\u001b[1;33m)\u001b[0m\u001b[1;33m\u001b[0m\u001b[1;33m\u001b[0m\u001b[0m\n\u001b[1;32m----> 6\u001b[1;33m \u001b[0mmytuple\u001b[0m\u001b[1;33m[\u001b[0m\u001b[1;36m1\u001b[0m\u001b[1;33m]\u001b[0m\u001b[1;33m=\u001b[0m\u001b[1;36m5\u001b[0m\u001b[1;33m\u001b[0m\u001b[1;33m\u001b[0m\u001b[0m\n\u001b[0m\u001b[0;32m      7\u001b[0m \u001b[0mprint\u001b[0m\u001b[1;33m(\u001b[0m\u001b[0mmytuple\u001b[0m\u001b[1;33m)\u001b[0m\u001b[1;33m\u001b[0m\u001b[1;33m\u001b[0m\u001b[0m\n",
      "\u001b[1;31mTypeError\u001b[0m: 'tuple' object does not support item assignment"
     ]
    }
   ],
   "source": [
    "#Python Tuple (immutable which means does not change)\n",
    "\n",
    "mytuple= (2,3,1,6,3)\n",
    "\n",
    "print(mytuple)\n",
    "mytuple[1]=5\n",
    "print(mytuple)"
   ]
  },
  {
   "cell_type": "code",
   "execution_count": 2,
   "metadata": {},
   "outputs": [
    {
     "name": "stdout",
     "output_type": "stream",
     "text": [
      "1\n"
     ]
    }
   ],
   "source": [
    "mytuple= (2,3,1,'Rama',6,3)\n",
    "print(mytuple[2])"
   ]
  },
  {
   "cell_type": "code",
   "execution_count": 17,
   "metadata": {},
   "outputs": [
    {
     "name": "stdout",
     "output_type": "stream",
     "text": [
      "4\n",
      "(2, 3, 1, 'Rama', 6, 3, [1, 2, 4])\n",
      "(3, 1, 'Rama', 6)\n",
      "(6, 3, [1, 2, 4])\n"
     ]
    }
   ],
   "source": [
    "nestedtuple= (2,3,1,'Rama',6,3,[1,2,4])\n",
    "print(nestedtuple[-1][2])\n",
    "print(nestedtuple[:])\n",
    "print(nestedtuple[1:-2])\n",
    "print(nestedtuple[-3:])"
   ]
  },
  {
   "cell_type": "code",
   "execution_count": 26,
   "metadata": {},
   "outputs": [
    {
     "name": "stdout",
     "output_type": "stream",
     "text": [
      "(2, 3, 1, 'Rama', 6, 3, [1, 2, 'krishna'])\n"
     ]
    }
   ],
   "source": [
    "nestedtuple= (2,3,1,'Rama',6,3,[1,2,4])\n",
    "nestedtuple[-1][2] = 'krishna'\n",
    "print(nestedtuple)"
   ]
  },
  {
   "cell_type": "code",
   "execution_count": 19,
   "metadata": {},
   "outputs": [
    {
     "name": "stdout",
     "output_type": "stream",
     "text": [
      "(2, 3, 1, 'Rama', 6, 3, 0, 9, 8)\n"
     ]
    }
   ],
   "source": [
    "concatenatetuple= (2,3,1,'Rama',6,3) + (0,9,8)\n",
    "print(concatenatetuple)"
   ]
  },
  {
   "cell_type": "code",
   "execution_count": 24,
   "metadata": {},
   "outputs": [
    {
     "name": "stdout",
     "output_type": "stream",
     "text": [
      "<class 'tuple'>\n",
      "('Rama', 'Rama', 'Rama')\n"
     ]
    }
   ],
   "source": [
    "mytuple = ('Rama',) * 3\n",
    "print(type(mytuple))\n",
    "print(mytuple)"
   ]
  }
 ],
 "metadata": {
  "kernelspec": {
   "display_name": "Python 3",
   "language": "python",
   "name": "python3"
  },
  "language_info": {
   "codemirror_mode": {
    "name": "ipython",
    "version": 3
   },
   "file_extension": ".py",
   "mimetype": "text/x-python",
   "name": "python",
   "nbconvert_exporter": "python",
   "pygments_lexer": "ipython3",
   "version": "3.7.1"
  }
 },
 "nbformat": 4,
 "nbformat_minor": 2
}
